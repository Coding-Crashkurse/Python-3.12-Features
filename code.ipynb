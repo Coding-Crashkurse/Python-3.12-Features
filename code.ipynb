{
 "cells": [
  {
   "cell_type": "markdown",
   "metadata": {},
   "source": [
    "Variables in target comprehensions"
   ]
  },
  {
   "cell_type": "code",
   "execution_count": null,
   "metadata": {},
   "outputs": [],
   "source": [
    "temp = [(x, x * 2) for x in range(5)]\n",
    "result = [y for x, y in temp if y > 5]\n",
    "print(result)"
   ]
  },
  {
   "cell_type": "code",
   "execution_count": null,
   "metadata": {},
   "outputs": [],
   "source": [
    "result = [(y := x * 2) for x in range(5) if y > 5]\n",
    "print(result)\n"
   ]
  },
  {
   "cell_type": "markdown",
   "metadata": {},
   "source": [
    "PEP 688: Buffer Protocol in Python"
   ]
  },
  {
   "cell_type": "code",
   "execution_count": null,
   "metadata": {},
   "outputs": [],
   "source": [
    "from collections.abc import Buffer\n",
    "\n",
    "class BinaryData(Buffer):\n",
    "    def __buffer__(self):\n",
    "        return b'binary data'\n",
    "\n",
    "# This would be useful, for example, in a function that processes binary data\n",
    "def process_binary_data(data: Buffer):\n",
    "    binary_data = bytes(data)"
   ]
  },
  {
   "cell_type": "markdown",
   "metadata": {},
   "source": [
    "PEP 701: Syntactic formalization of f-strings"
   ]
  },
  {
   "cell_type": "code",
   "execution_count": null,
   "metadata": {},
   "outputs": [],
   "source": [
    "songs = ['Song A', 'Song B', 'Song C']\n",
    "\n",
    "nested_f_string = f\"The Playlist: {f'{\", \".join(songs)}'}\"\n",
    "print(nested_f_string)  # prints The Playlist: Song A, Song B, Song C"
   ]
  },
  {
   "cell_type": "markdown",
   "metadata": {},
   "source": [
    "Improved Error Messages"
   ]
  },
  {
   "cell_type": "code",
   "execution_count": null,
   "metadata": {},
   "outputs": [],
   "source": [
    "sys.version_info\n",
    "\n",
    "\"\"\"\n",
    "Traceback (most recent call last):\n",
    "  File \"<stdin>\", line 1, in <module>\n",
    "NameError: name 'sys' is not defined. Did you forget to import 'sys'?\n",
    "\"\"\""
   ]
  },
  {
   "cell_type": "markdown",
   "metadata": {},
   "source": [
    "PEP 692: Using TypedDict for More Precise kwargs Typing"
   ]
  },
  {
   "cell_type": "code",
   "execution_count": null,
   "metadata": {},
   "outputs": [],
   "source": [
    "from typing import TypedDict, Unpack\n",
    "\n",
    "class Person(TypedDict):\n",
    "    firstName: str\n",
    "    lastName: str\n",
    "\n",
    "\n",
    "#def displayPerson(**kwargs: str):\n",
    "def displayPerson(**kwargs: Unpack[Person]):\n",
    "    print(f\"First Name: {kwargs['firstName']}, Last Name: {kwargs['lastName']}\")\n",
    "\n",
    "displayPerson(firstName=\"John\", lastName=\"Doe\")\n"
   ]
  },
  {
   "cell_type": "markdown",
   "metadata": {},
   "source": [
    "SyntaxWarning for Invalid Escape Sequences"
   ]
  },
  {
   "cell_type": "code",
   "execution_count": null,
   "metadata": {},
   "outputs": [],
   "source": [
    "try:\n",
    "    invalid_string = \"John \\Doe\"\n",
    "except SyntaxWarning as e:\n",
    "    print(e) "
   ]
  },
  {
   "cell_type": "markdown",
   "metadata": {},
   "source": [
    "709: Comprehension Inlining"
   ]
  },
  {
   "cell_type": "code",
   "execution_count": null,
   "metadata": {},
   "outputs": [],
   "source": [
    "# John Doe can now enjoy faster execution of comprehensions\n",
    "names = ['John', 'Jane', 'Doe']\n",
    "uppercase_names = [name.upper() for name in names]\n",
    "print(uppercase_names)  # prints ['JOHN', 'JANE', 'DOE']\n"
   ]
  },
  {
   "cell_type": "markdown",
   "metadata": {},
   "source": [
    "Hashable Slice Objects"
   ]
  },
  {
   "cell_type": "code",
   "execution_count": 19,
   "metadata": {},
   "outputs": [
    {
     "name": "stdout",
     "output_type": "stream",
     "text": [
      "[1, 3, 5]\n"
     ]
    }
   ],
   "source": [
    "liste = [0, 1, 2, 3, 4, 5, 6, 7, 8, 9]\n",
    "s = slice(1, 7, 2)  # Start bei Index 1, Stop bei Index 7, Schrittweite 2\n",
    "print(liste[s])\n"
   ]
  },
  {
   "cell_type": "code",
   "execution_count": null,
   "metadata": {},
   "outputs": [],
   "source": [
    "# John Doe can now use slice objects as keys in a dictionary\n",
    "slices_dict = {slice(1, 5): \"John\", slice(6, 10): \"Doe\"}\n",
    "print(slices_dict[slice(1, 5)])  # prints \"John\"\n",
    "\n"
   ]
  },
  {
   "cell_type": "markdown",
   "metadata": {},
   "source": [
    "PEP 695: Type Parameter Syntax"
   ]
  },
  {
   "cell_type": "code",
   "execution_count": 20,
   "metadata": {},
   "outputs": [
    {
     "name": "stdout",
     "output_type": "stream",
     "text": [
      "4\n",
      "4.4\n",
      "cherry\n"
     ]
    }
   ],
   "source": [
    "from typing import Union, Iterable\n",
    "\n",
    "def union_max(args: Iterable[Union[str, int, float]]) -> Union[str, int, float]:\n",
    "    return max(args)\n",
    "\n",
    "print(union_max([1, 2, 3, 4])) \n",
    "print(union_max([1.1, 2.2, 3.3, 4.4]))  \n",
    "print(union_max([\"apple\", \"banana\", \"cherry\"]))  "
   ]
  },
  {
   "cell_type": "code",
   "execution_count": 21,
   "metadata": {},
   "outputs": [
    {
     "name": "stdout",
     "output_type": "stream",
     "text": [
      "4\n",
      "4.4\n",
      "cherry\n"
     ]
    }
   ],
   "source": [
    "from typing import TypeVar, Iterable\n",
    "\n",
    "T = TypeVar('T')\n",
    "\n",
    "def generic_max(args: Iterable[T]) -> T:\n",
    "    return max(args)\n",
    "\n",
    "print(generic_max([1, 2, 3, 4])) \n",
    "print(generic_max([1.1, 2.2, 3.3, 4.4]))  \n",
    "print(generic_max([\"apple\", \"banana\", \"cherry\"]))  "
   ]
  },
  {
   "cell_type": "code",
   "execution_count": null,
   "metadata": {},
   "outputs": [],
   "source": [
    "from typing import Iterable\n",
    "\n",
    "def generic_max[T](args: Iterable[T]) -> T:\n",
    "    return max(args)\n",
    "\n"
   ]
  },
  {
   "cell_type": "markdown",
   "metadata": {},
   "source": [
    "PEP 968: Override Decorator for Static Typing¶"
   ]
  },
  {
   "cell_type": "code",
   "execution_count": null,
   "metadata": {},
   "outputs": [],
   "source": [
    "from typing import override\n",
    "\n",
    "class Animal:\n",
    "    def make_sound(self) -> str:\n",
    "        return \"some sound\"\n",
    "\n",
    "class Dog(Animal):\n",
    "    @override  # ok: overrides Animal.make_sound\n",
    "    def make_sound(self) -> str:\n",
    "        return \"bark\"\n",
    "\n",
    "class Cat(Animal):\n",
    "    @override  # Type checker error: does not override Animal.make_sound\n",
    "    def make_noise(self) -> str:\n",
    "        return \"meow\""
   ]
  },
  {
   "cell_type": "markdown",
   "metadata": {},
   "source": [
    "Interpretes module: Will be available in Python 3.13!"
   ]
  },
  {
   "cell_type": "code",
   "execution_count": null,
   "metadata": {},
   "outputs": [],
   "source": [
    "/* C Code */\n",
    "\n",
    "PyInterpreterConfig config = {\n",
    "    .check_multi_interp_extensions = 1,\n",
    "    .gil = PyInterpreterConfig_OWN_GIL,\n",
    "};\n",
    "PyThreadState *tstate = NULL;\n",
    "PyStatus status = Py_NewInterpreterFromConfig(&tstate, &config);\n",
    "if (PyStatus_Exception(status)) {\n",
    "    return -1;\n",
    "}\n",
    "/* The new interpeter is now active in the current thread. */"
   ]
  },
  {
   "cell_type": "code",
   "execution_count": null,
   "metadata": {},
   "outputs": [],
   "source": [
    "import interpreters\n",
    "\n",
    "# Creating a new interpreter\n",
    "interp = interpreters.create()\n",
    "\n",
    "# Running code in the interpreter\n",
    "print('before')\n",
    "interp.run('print(\"during\")')\n",
    "print('after')\n",
    "\n",
    "# Finalizing and destroying the interpreter\n",
    "interp.close()"
   ]
  },
  {
   "cell_type": "code",
   "execution_count": null,
   "metadata": {},
   "outputs": [],
   "source": [
    "import threading\n",
    "\n",
    "interp = interpreters.create()\n",
    "\n",
    "def run():\n",
    "    interp.run('print(\"during\")')\n",
    "\n",
    "t = threading.Thread(target=run)\n",
    "print('before')\n",
    "t.start()\n",
    "t.join()\n",
    "print('after')\n"
   ]
  }
 ],
 "metadata": {
  "kernelspec": {
   "display_name": "Python 3",
   "language": "python",
   "name": "python3"
  },
  "language_info": {
   "codemirror_mode": {
    "name": "ipython",
    "version": 3
   },
   "file_extension": ".py",
   "mimetype": "text/x-python",
   "name": "python",
   "nbconvert_exporter": "python",
   "pygments_lexer": "ipython3",
   "version": "3.11.0"
  },
  "orig_nbformat": 4
 },
 "nbformat": 4,
 "nbformat_minor": 2
}
